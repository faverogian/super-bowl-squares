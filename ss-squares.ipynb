{
 "cells": [
  {
   "cell_type": "markdown",
   "metadata": {},
   "source": [
    "## Super Bowl Squares Average Payout Analysis\n",
    "\n",
    "Gian Favero | February 2nd, 2024"
   ]
  },
  {
   "cell_type": "markdown",
   "metadata": {},
   "source": [
    "We look to Stathead.com's DriveFinder to estimate the probability of any scoring event (TD, FG, safety) occurring during a given drive. We assume each drive is independent of another (no accommodations for game script) and will handle the scenario of PATs as a double scoring drive should a TD be the result of a drive. Historical PAT data shows nearly 100% success on average over the past ten years, so the chance of incurring a PAT is equal to the chance of scoring a TD. \n",
    "\n",
    "We additionally look to Pro Football Reference to determine how many drives on average each team gets in a given NFL game. We multiply this number by two to get the total number of offensive drives per game"
   ]
  },
  {
   "cell_type": "code",
   "execution_count": 175,
   "metadata": {},
   "outputs": [],
   "source": [
    "import numpy as np\n",
    "\n",
    "buy_in = 2\n",
    "payout = 0.05\n",
    "pot = 100 * buy_in\n",
    "\n",
    "# Stats taken from Stathead.com Drive Finder over 2013 - 2023 seasons\n",
    "p_TD = 0.213\n",
    "p_FG = 0.144\n",
    "p_S = 0.002\n",
    "no_score = 1 - p_TD - p_FG - p_S\n",
    "\n",
    "drive_probabilities = [p_TD, p_FG, p_S, no_score]\n",
    "\n",
    "# Stat taken from Pro Football Reference over 2013 - 2023 seasons\n",
    "drives_per_game = 11.5 * 2"
   ]
  },
  {
   "cell_type": "markdown",
   "metadata": {},
   "source": [
    "Using this information, we now have enough data to run Monte Carlo simulations to determine the number of times each square will be landed on in a given NFL game. We consider each drive independently (again, not accounting for game script) and consider that a PAT occurs after each TD at a 100% conversion rate."
   ]
  },
  {
   "cell_type": "code",
   "execution_count": 176,
   "metadata": {},
   "outputs": [
    {
     "name": "stdout",
     "output_type": "stream",
     "text": [
      "Times landed per square: \n",
      "[[0.564 0.128 0.049 0.589 0.301 0.03  0.489 0.658 0.048 0.148]\n",
      " [0.142 0.048 0.015 0.113 0.085 0.011 0.07  0.133 0.019 0.037]\n",
      " [0.057 0.017 0.004 0.039 0.033 0.003 0.021 0.051 0.006 0.01 ]\n",
      " [0.688 0.106 0.036 0.4   0.241 0.022 0.259 0.472 0.038 0.095]\n",
      " [0.343 0.093 0.031 0.256 0.181 0.02  0.162 0.288 0.036 0.075]\n",
      " [0.032 0.011 0.004 0.024 0.023 0.003 0.017 0.031 0.005 0.007]\n",
      " [0.629 0.067 0.02  0.233 0.151 0.013 0.11  0.307 0.025 0.046]\n",
      " [0.788 0.127 0.047 0.467 0.276 0.026 0.346 0.534 0.051 0.123]\n",
      " [0.056 0.02  0.007 0.044 0.037 0.006 0.026 0.053 0.01  0.013]\n",
      " [0.166 0.033 0.009 0.104 0.078 0.008 0.049 0.139 0.013 0.019]]\n",
      "\n",
      "Sum of the number of landings: \n",
      "13.190300000000002\n"
     ]
    }
   ],
   "source": [
    "simulations = 10000\n",
    "square_board = np.zeros((10, 10))\n",
    "\n",
    "for i in range(simulations):\n",
    "\n",
    "    team_1_score = 0\n",
    "    team_2_score = 0\n",
    "\n",
    "    for j in range(int(drives_per_game)):\n",
    "        # Reset score for each drive\n",
    "        score = 0\n",
    "\n",
    "        # Select drive outcome based on probabilities\n",
    "        drive_outcome = np.random.choice([0, 1, 2, 3], p=drive_probabilities)\n",
    "\n",
    "        # Add score based on drive outcome\n",
    "        if drive_outcome == 0:      # TD\n",
    "            score += 6\n",
    "        elif drive_outcome == 1:    # FG\n",
    "            score += 3\n",
    "        elif drive_outcome == 2:    # Safety\n",
    "            score += 2\n",
    "        else:                       # No score\n",
    "            score = 0\n",
    "\n",
    "        # Add score to team 1 or team 2 based on drive number\n",
    "        if j % 2 == 0:\n",
    "            team_1_score += score\n",
    "        else:\n",
    "            team_2_score += score\n",
    "\n",
    "        # Update board if score occurred\n",
    "        if score > 0:\n",
    "            square_board[team_1_score % 10][team_2_score % 10] += 1\n",
    "\n",
    "            # If result was a touchdown, add the extra point\n",
    "            if drive_outcome == 0:\n",
    "                if j % 2 == 0:\n",
    "                    team_1_score += 1\n",
    "                else:\n",
    "                    team_2_score += 1\n",
    "\n",
    "                square_board[team_1_score % 10][team_2_score % 10] += 1\n",
    "\n",
    "# Normalize the board\n",
    "square_board = square_board / simulations\n",
    "\n",
    "# Print the board\n",
    "print(\"Times landed per square: \")\n",
    "np.set_printoptions(suppress=True)\n",
    "print(square_board)\n",
    "\n",
    "# Print the sum of the board\n",
    "print(\"\\nSum of the number of landings: \")\n",
    "print(np.sum(square_board))"
   ]
  },
  {
   "cell_type": "markdown",
   "metadata": {},
   "source": [
    "This probability per square graphic is essentially telling us how many times an individual square is expected to be landed on per game. We can then get the expected earnings per square through the expected payout per score."
   ]
  },
  {
   "cell_type": "code",
   "execution_count": 177,
   "metadata": {},
   "outputs": [
    {
     "name": "stdout",
     "output_type": "stream",
     "text": [
      "Payout per square: \n",
      "[[5.641 1.28  0.486 5.887 3.012 0.299 4.89  6.578 0.483 1.479]\n",
      " [1.419 0.479 0.149 1.125 0.852 0.108 0.696 1.328 0.194 0.366]\n",
      " [0.574 0.166 0.042 0.387 0.325 0.029 0.211 0.512 0.063 0.099]\n",
      " [6.877 1.059 0.362 4.001 2.407 0.221 2.594 4.723 0.38  0.945]\n",
      " [3.434 0.935 0.308 2.561 1.815 0.199 1.622 2.88  0.361 0.751]\n",
      " [0.32  0.11  0.035 0.244 0.227 0.029 0.166 0.307 0.052 0.066]\n",
      " [6.287 0.666 0.199 2.333 1.514 0.127 1.104 3.07  0.246 0.456]\n",
      " [7.883 1.269 0.471 4.665 2.764 0.265 3.465 5.337 0.506 1.226]\n",
      " [0.563 0.204 0.066 0.445 0.375 0.063 0.263 0.527 0.096 0.129]\n",
      " [1.658 0.328 0.086 1.037 0.781 0.076 0.486 1.391 0.135 0.191]]\n"
     ]
    }
   ],
   "source": [
    "# Calculate the payout per square\n",
    "payout_board = square_board * payout * pot\n",
    "print(\"Payout per square: \")\n",
    "print(payout_board)"
   ]
  },
  {
   "cell_type": "markdown",
   "metadata": {},
   "source": [
    "We can additionally estimate the expected grand payout per square. Considering the full pot and an average of 13 payouts per game, the average grand prize will be \n",
    "\n",
    "$\\text{GP} = \\text{Pot} - \\text{Payout} \\times 13$.\n",
    "\n",
    " We have the average number of landings per square in a given game, so if we divide this by 13 we will have the probability of each square being landed on for one individual score in that game (which could be the final score). We multiply this by the expected grand prize to approximate the expected grand prize per square."
   ]
  },
  {
   "cell_type": "code",
   "execution_count": 178,
   "metadata": {},
   "outputs": [
    {
     "name": "stdout",
     "output_type": "stream",
     "text": [
      "Grand prize board: \n",
      "[[3.037 0.689 0.262 3.17  1.622 0.161 2.633 3.542 0.26  0.796]\n",
      " [0.764 0.258 0.08  0.606 0.459 0.058 0.375 0.715 0.104 0.197]\n",
      " [0.309 0.089 0.023 0.208 0.175 0.016 0.114 0.276 0.034 0.053]\n",
      " [3.703 0.57  0.195 2.154 1.296 0.119 1.397 2.543 0.205 0.509]\n",
      " [1.849 0.503 0.166 1.379 0.977 0.107 0.873 1.551 0.194 0.404]\n",
      " [0.172 0.059 0.019 0.131 0.122 0.016 0.089 0.165 0.028 0.036]\n",
      " [3.385 0.359 0.107 1.256 0.815 0.068 0.594 1.653 0.132 0.246]\n",
      " [4.245 0.683 0.254 2.512 1.488 0.143 1.866 2.874 0.272 0.66 ]\n",
      " [0.303 0.11  0.036 0.24  0.202 0.034 0.142 0.284 0.052 0.069]\n",
      " [0.893 0.177 0.046 0.558 0.421 0.041 0.262 0.749 0.073 0.103]]\n"
     ]
    }
   ],
   "source": [
    "# Add a board that represents winning the grand prize according to an average of 13 payouts per game\n",
    "normalized_board = square_board / 13\n",
    "grand_board = normalized_board * (pot - pot * payout * 13)\n",
    "\n",
    "# Print the grand prize board with 3 decimal places\n",
    "print(\"Grand prize board: \")\n",
    "np.set_printoptions(precision=3)\n",
    "print(grand_board)"
   ]
  },
  {
   "cell_type": "markdown",
   "metadata": {},
   "source": [
    "We can now introduce the league constraints to the problem. Each square costs $2 for a maximum of ten squares. Squares are assigned randomly according to a uniform distribution. Using this information, we can attempt to discern if buying a particular number of squares maximizes our chances of breaking even."
   ]
  },
  {
   "cell_type": "code",
   "execution_count": 181,
   "metadata": {},
   "outputs": [
    {
     "name": "stdout",
     "output_type": "stream",
     "text": [
      "Expected payout for 1 squares: 2.0088970461538826, Profit: 0.008897046153882648\n",
      "Expected payout for 2 squares: 4.053459538461815, Profit: 0.05345953846181484\n",
      "Expected payout for 3 squares: 6.09163233846161, Profit: 0.09163233846160956\n",
      "Expected payout for 4 squares: 8.103293846153349, Profit: 0.10329384615334902\n",
      "Expected payout for 5 squares: 10.19164381538334, Profit: 0.1916438153833404\n",
      "Expected payout for 6 squares: 12.106351815382565, Profit: 0.1063518153825651\n",
      "Expected payout for 7 squares: 14.162494276920436, Profit: 0.1624942769204356\n",
      "Expected payout for 8 squares: 16.21169341538096, Profit: 0.2116934153809602\n",
      "Expected payout for 9 squares: 18.25570153845728, Profit: 0.2557015384572807\n",
      "Expected payout for 10 squares: 20.26739972307131, Profit: 0.26739972307131055\n"
     ]
    }
   ],
   "source": [
    "simulations = 50000\n",
    "\n",
    "# Run a loop over each purchasable number of squares\n",
    "for i in range(10):\n",
    "    payout = 0\n",
    "    # Run a Monte Carlo simulation over a number of trials\n",
    "    for j in range(simulations):\n",
    "        # Randomly select i + 1 squares from the board\n",
    "        team_1_index = np.random.choice(10, i+1)\n",
    "        team_2_index = np.random.choice(10, i+1)\n",
    "\n",
    "        # Sum the expected payouts for each square\n",
    "        for k in range(i+1):\n",
    "            payout += payout_board[team_1_index[k]][team_2_index[k]] + grand_board[team_1_index[k]][team_2_index[k]]\n",
    "\n",
    "    # Print the expected payout for each number of squares\n",
    "    print(f\"Expected payout for {i+1} squares: {payout/simulations}, Profit: {payout/simulations - 2 * (i+1)}\")"
   ]
  },
  {
   "cell_type": "markdown",
   "metadata": {},
   "source": [
    "We observe a clear bias towards those who buy as many squares as possible. Thus, if you decide to buy into a Super Bowl pool this year, go all in!"
   ]
  }
 ],
 "metadata": {
  "kernelspec": {
   "display_name": "Python 3",
   "language": "python",
   "name": "python3"
  },
  "language_info": {
   "codemirror_mode": {
    "name": "ipython",
    "version": 3
   },
   "file_extension": ".py",
   "mimetype": "text/x-python",
   "name": "python",
   "nbconvert_exporter": "python",
   "pygments_lexer": "ipython3",
   "version": "3.9.13"
  }
 },
 "nbformat": 4,
 "nbformat_minor": 2
}
